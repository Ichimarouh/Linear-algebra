{
 "cells": [
  {
   "cell_type": "markdown",
   "metadata": {},
   "source": [
    "## Урок 1."
   ]
  },
  {
   "cell_type": "markdown",
   "metadata": {},
   "source": [
    "## Линейное пространство. Основные понятия. Часть 1."
   ]
  },
  {
   "cell_type": "markdown",
   "metadata": {},
   "source": [
    "#### __1.__ Исследовать на линейную зависимость:\n",
    "\n",
    "$$f_{1}(x)=e^{x}, f_{2}(x)=1, f_{3}(x)=x+1, f_{4}(x)=x-e^{x}.$$\n"
   ]
  },
  {
   "cell_type": "markdown",
   "metadata": {},
   "source": [
    "Выразим $f_{4}(x)$ через $f_{1}(x)$, $f_{2}(x)$, $f_{4}(3)$."
   ]
  },
  {
   "cell_type": "markdown",
   "metadata": {},
   "source": [
    "$$f_{4}(x) = x - e^{x} = f_{3}(x) - f_{2}(x) - f_{1}(x) = x + 1 - 1 - e^{x} = x - e^{x}$$."
   ]
  },
  {
   "cell_type": "markdown",
   "metadata": {},
   "source": [
    "Из этого следует, что функции линейно зависимы."
   ]
  },
  {
   "cell_type": "markdown",
   "metadata": {},
   "source": [
    "#### __2.__ Исследовать на линейную зависимость:\n",
    "$$f_{1}(x)=2, f_{2}(x)=x, f_{3}(x)=x^{2}, f_{4}(x)=(x+1)^{2}$$"
   ]
  },
  {
   "cell_type": "markdown",
   "metadata": {},
   "source": [
    "Выразим $f_{4}(x)$ через $f_{1}(x)$, $f_{2}(x)$, $f_{4}(x).$"
   ]
  },
  {
   "cell_type": "markdown",
   "metadata": {},
   "source": [
    "$$f_{4}(x)=(x+1)^{2} = x^{2} + 2x + 1 = f_{3}(x) + f_{1}(x)f_{2}(x) + \\frac{1}{2}f_{1}(x) = x^{2} + 2x + \\frac{1}{2}2 = x^{2} + 2x + 1.$$"
   ]
  },
  {
   "cell_type": "markdown",
   "metadata": {},
   "source": [
    "Из этого следует, что функции линейно зависимы."
   ]
  },
  {
   "cell_type": "markdown",
   "metadata": {},
   "source": [
    "#### __3.__ Найти координаты вектора $x = (2, 3, 5)\\in \\mathbb{R}^{3}$ в базисе $b_{1}=(0, 0, 10)$, $b_{2}=(2, 0, 0)$, $b_{3}=(0, 1, 0)$."
   ]
  },
  {
   "cell_type": "markdown",
   "metadata": {},
   "source": [
    "$x = (2, 3, 5) = (2, 0, 0) + 3(0, 1, 0) +\\frac{1}{2}(0, 0, 10) = b_{2} + 3b_{3} + \\frac{1}{2}b_{3}.$"
   ]
  },
  {
   "cell_type": "markdown",
   "metadata": {},
   "source": [
    "#### __4.__ Найти координаты вектора $3x^{2}-2x+2\\in\\mathbb{R}^{3}[x]$:\n",
    "\n",
    "а) в базисе $1$, $x$, $x^{2}.$"
   ]
  },
  {
   "cell_type": "markdown",
   "metadata": {},
   "source": [
    "Обозначим базис через: $b_{1} = 1; b_{2} = x; b_{3} = x^{2}.$"
   ]
  },
  {
   "cell_type": "markdown",
   "metadata": {},
   "source": [
    "$$3x^{2}-2x+2 = 3b_{3} - 2b_{2} + 2b_{1}.$$"
   ]
  },
  {
   "cell_type": "markdown",
   "metadata": {},
   "source": [
    "б) в базисе $x^{2}$, $x-1$, $1$."
   ]
  },
  {
   "cell_type": "markdown",
   "metadata": {},
   "source": [
    "Обозначим базис через: $c_{1} = x^{2}; c_{2} = x - 1; c_{3} = 1.$"
   ]
  },
  {
   "cell_type": "markdown",
   "metadata": {},
   "source": [
    "$$3x^{2}-2x+2 = 3c_{1} - 2c_{2} + 0c_{1}.$$"
   ]
  },
  {
   "cell_type": "markdown",
   "metadata": {},
   "source": [
    "#### __5.__ Установить, является ли линейным подпространством:\n",
    "\n",
    "#### а) совокупность всех векторов трехмерного пространства, у которых по крайней мере одна из первых двух координат равна нулю;"
   ]
  },
  {
   "cell_type": "markdown",
   "metadata": {},
   "source": [
    "Проведем проверку векторов, подходящих под условие: $a = (0, \\beta, \\gamma), b = (\\alpha, 0, \\gamma), c = (0, 0, \\gamma).$"
   ]
  },
  {
   "cell_type": "markdown",
   "metadata": {},
   "source": [
    "$(0, \\beta_{1}, \\gamma_{1}) + (0, \\beta_{2}, \\gamma_{2}) = (0, \\beta_{1} + \\beta_{2}, \\gamma_{1} + \\gamma_{2});$<br>\n",
    "$u\\cdot (0, \\beta, \\gamma) = (0, u\\beta , u\\gamma).$"
   ]
  },
  {
   "cell_type": "markdown",
   "metadata": {},
   "source": [
    "Данное множество векторов является подпространством линейного пространства $\\mathbb{R}^{3}$."
   ]
  },
  {
   "cell_type": "markdown",
   "metadata": {},
   "source": [
    "$(\\alpha_{1}, 0, \\gamma_{1}) + (\\alpha_{2}, 0, \\gamma_{2}) = (\\alpha_{1} + \\alpha_{2}, 0, \\gamma_{1} + \\gamma_{2});$<br>\n",
    "$u\\cdot (\\alpha, 0, \\gamma) = (u\\alpha , 0, u\\gamma).$"
   ]
  },
  {
   "cell_type": "markdown",
   "metadata": {},
   "source": [
    "Данное множество векторов является подпространством линейного пространства $\\mathbb{R}^{3}$."
   ]
  },
  {
   "cell_type": "markdown",
   "metadata": {},
   "source": [
    "$(0, 0, \\gamma_{1}) + (0, 0, \\gamma_{2}) = (0, 0, \\gamma_{1} + \\gamma_{2});$<br>\n",
    "$u(0, 0, \\gamma) = (0, 0, u\\gamma).$"
   ]
  },
  {
   "cell_type": "markdown",
   "metadata": {},
   "source": [
    "Данное множество векторов является подпространством линейного пространства $\\mathbb{R}^{3}$."
   ]
  },
  {
   "cell_type": "markdown",
   "metadata": {},
   "source": [
    "#### б) все векторы, являющиеся линейными комбинациями данных векторов $\\{u_{1}, u_{2}, \\ldots, u_{n}\\}$."
   ]
  },
  {
   "cell_type": "markdown",
   "metadata": {},
   "source": [
    "Данному условию подходит векторы $a = \\lambda_{1} u_{1} + \\lambda_{2} u_{2} + ... \\lambda_{n} u_{n}$ и<br> $b = \\omega_{1} u_{1} + \\omega_{2} u_{2} + ... + \\omega_{n} u_{n}.$"
   ]
  },
  {
   "cell_type": "markdown",
   "metadata": {},
   "source": [
    "$a + b = u_{1}(\\lambda_{1}+\\omega_{1}) + u_{2}(\\lambda_{1}+\\omega_{1}) + ... + u_{n}(\\lambda_{n}+\\omega_{n});$<br>\n",
    "$u\\cdot a = (u\\lambda_{1}, u\\lambda_{2}, ..., u\\lambda_{n}).$"
   ]
  },
  {
   "cell_type": "markdown",
   "metadata": {},
   "source": [
    "Данное множество векторов является подпространством линейного пространства $\\mathbb{R}^{3}$."
   ]
  },
  {
   "cell_type": "markdown",
   "metadata": {},
   "source": [
    "## Линейное пространство. Основные понятия. Часть 2."
   ]
  },
  {
   "cell_type": "markdown",
   "metadata": {},
   "source": [
    "#### __1.__ Найти скалярное произведение векторов $x, y \\in \\mathbb{R}$.<br>\n",
    "#### а) $x=(0,-3, 6),~y=(-4, 7, 9).$"
   ]
  },
  {
   "cell_type": "markdown",
   "metadata": {},
   "source": [
    "Найдем скалярное произведение без использования библиотек языка программирования: $(x, y) = 0\\cdot(-4) + (-3)\\cdot7 + 6\\cdot9 = 0 + (-21) + 54 = 33.$"
   ]
  },
  {
   "cell_type": "markdown",
   "metadata": {},
   "source": [
    "#### б) $x=(7, -4, 0, 1),~y=(-3, 1, 11, 2).$"
   ]
  },
  {
   "cell_type": "markdown",
   "metadata": {},
   "source": [
    "Найдем скалярное произведение при помощи Python."
   ]
  },
  {
   "cell_type": "code",
   "execution_count": 22,
   "metadata": {},
   "outputs": [],
   "source": [
    "import numpy as np"
   ]
  },
  {
   "cell_type": "code",
   "execution_count": 23,
   "metadata": {},
   "outputs": [],
   "source": [
    "x = np.array([7, -4, 0.1])\n",
    "\n",
    "y = np.array([-3, 1, 11.2])"
   ]
  },
  {
   "cell_type": "code",
   "execution_count": 24,
   "metadata": {},
   "outputs": [
    {
     "name": "stdout",
     "output_type": "stream",
     "text": [
      "Скалярное произведение векторов x и y: -23.88\n"
     ]
    }
   ],
   "source": [
    "print(f'Скалярное произведение векторов x и y: {np.dot(x, y)}')"
   ]
  },
  {
   "cell_type": "markdown",
   "metadata": {},
   "source": [
    "#### __2.__ Найти нормы векторов $(4, 2, 4)$ и $(12, 3, 4)$ и угол между ними."
   ]
  },
  {
   "cell_type": "code",
   "execution_count": 25,
   "metadata": {},
   "outputs": [],
   "source": [
    "from numpy.linalg import norm"
   ]
  },
  {
   "cell_type": "code",
   "execution_count": 26,
   "metadata": {},
   "outputs": [],
   "source": [
    "a = np.array([4, 2, 4])\n",
    "\n",
    "b = np.array([12, 3, 4])"
   ]
  },
  {
   "cell_type": "code",
   "execution_count": 27,
   "metadata": {},
   "outputs": [
    {
     "name": "stdout",
     "output_type": "stream",
     "text": [
      "Манхетовская норма вектора a: 10.0\n",
      "Манхетовская норма вектора b: 19.0\n"
     ]
    }
   ],
   "source": [
    "print(f'Манхетовская норма вектора a: {norm(a, ord=1)}')\n",
    "\n",
    "print(f'Манхетовская норма вектора b: {norm(b, ord=1)}')"
   ]
  },
  {
   "cell_type": "code",
   "execution_count": 28,
   "metadata": {},
   "outputs": [
    {
     "name": "stdout",
     "output_type": "stream",
     "text": [
      "Евклидова норма вектора а: 6.0\n",
      "Евклидова норма вектора b: 13.0\n"
     ]
    }
   ],
   "source": [
    "print(f'Евклидова норма вектора а: {norm(a, ord=2)}')\n",
    "\n",
    "print(f'Евклидова норма вектора b: {norm(b, ord=2)}')"
   ]
  },
  {
   "cell_type": "markdown",
   "metadata": {},
   "source": [
    "Найдем угол $\\alpha$ между векторами."
   ]
  },
  {
   "cell_type": "code",
   "execution_count": 29,
   "metadata": {},
   "outputs": [
    {
     "name": "stdout",
     "output_type": "stream",
     "text": [
      "Угол между векторами a и b составляет 68.38 градусов.\n"
     ]
    }
   ],
   "source": [
    "cos_alpha = np.dot(a, b) / (norm(a, ord=1) * norm(b, ord=1))\n",
    "\n",
    "print(f'Угол между векторами a и b составляет {round(np.arccos(cos_alpha)*180/np.pi, 2)} градусов.')"
   ]
  },
  {
   "cell_type": "markdown",
   "metadata": {},
   "source": [
    "#### 3. Будет ли линейное пространство евклидовым, если за скалярное произведение принять.\n",
    "#### а) произведение длин векторов."
   ]
  },
  {
   "cell_type": "markdown",
   "metadata": {},
   "source": [
    "Пространство является евклидовым, если выполняются следующие аксиомы:<br>\n",
    "1)  (x,y)=(y,x); <br>\n",
    "2)  (λx,y)=λ(x,y); <br>\n",
    "3)  (x1+x2,y)=(x1,y)+(x2,y); <br>\n",
    "4)  (x,x)≥0 , причем  (x,x)=0⇔x=0."
   ]
  },
  {
   "cell_type": "markdown",
   "metadata": {},
   "source": [
    "Скалярное произведение равняется произведению длин векторов в том случае, если угол между ними равен $0^0$. В данном случае все аксиомы выполняются и пространство считается евклидовым."
   ]
  },
  {
   "cell_type": "markdown",
   "metadata": {},
   "source": [
    "#### б) утроенное обычное скалярное произведение векторов."
   ]
  },
  {
   "cell_type": "markdown",
   "metadata": {},
   "source": [
    "В данном случае три будет являться константой. При этом пространство также будет являться евклидовым."
   ]
  },
  {
   "cell_type": "markdown",
   "metadata": {},
   "source": [
    "#### __4.__ Какие из нижеперечисленных векторов образуют ортонормированный базис в линейном пространстве $\\mathbb{R}^{3}$:<br>\n",
    "#### а) $(1,0,0),(0,0,1);$ <br>"
   ]
  },
  {
   "cell_type": "markdown",
   "metadata": {},
   "source": [
    "Векторы имеют ортонормированный базис, если их скалярное произведение равняется нулю."
   ]
  },
  {
   "cell_type": "code",
   "execution_count": 30,
   "metadata": {},
   "outputs": [
    {
     "data": {
      "text/plain": [
       "0"
      ]
     },
     "execution_count": 30,
     "metadata": {},
     "output_type": "execute_result"
    }
   ],
   "source": [
    "d = np.array([1,0,0])\n",
    "\n",
    "e = np.array([0,0,1])\n",
    "\n",
    "np.dot(d, e)"
   ]
  },
  {
   "cell_type": "markdown",
   "metadata": {},
   "source": [
    "Векторы d и e образуют ортонормированный базис в линейном пространстве $\\mathbb{R}^{3}.$"
   ]
  },
  {
   "cell_type": "markdown",
   "metadata": {},
   "source": [
    "б) $(1/\\sqrt{2},-1/\\sqrt{2},0),(1/\\sqrt{2},1/\\sqrt{2},0), (0,0,1).$"
   ]
  },
  {
   "cell_type": "code",
   "execution_count": 31,
   "metadata": {},
   "outputs": [],
   "source": [
    "f = np.array([1/np.sqrt(2), -1, 0])\n",
    "\n",
    "g = np.array([1/np.sqrt(2), 1/np.sqrt(2), 0])\n",
    "\n",
    "h = np.array([0, 0, 1])"
   ]
  },
  {
   "cell_type": "code",
   "execution_count": 32,
   "metadata": {},
   "outputs": [
    {
     "data": {
      "text/plain": [
       "-0.20710678118654757"
      ]
     },
     "execution_count": 32,
     "metadata": {},
     "output_type": "execute_result"
    }
   ],
   "source": [
    "np.dot(f, g)"
   ]
  },
  {
   "cell_type": "code",
   "execution_count": 33,
   "metadata": {},
   "outputs": [
    {
     "data": {
      "text/plain": [
       "0.0"
      ]
     },
     "execution_count": 33,
     "metadata": {},
     "output_type": "execute_result"
    }
   ],
   "source": [
    "np.dot(f, h)"
   ]
  },
  {
   "cell_type": "code",
   "execution_count": 34,
   "metadata": {},
   "outputs": [
    {
     "data": {
      "text/plain": [
       "0.0"
      ]
     },
     "execution_count": 34,
     "metadata": {},
     "output_type": "execute_result"
    }
   ],
   "source": [
    "np.dot(g, h)"
   ]
  },
  {
   "cell_type": "markdown",
   "metadata": {},
   "source": [
    "Пара векторов (f, h), а также (g, h) образуют ортонормированный базис в линейном пространстве $\\mathbb{R}^{3}.$"
   ]
  },
  {
   "cell_type": "markdown",
   "metadata": {},
   "source": [
    "#### в) $(1/2, -1/2, 0), (0, 1/2, 1/2), (0,0,1).$"
   ]
  },
  {
   "cell_type": "code",
   "execution_count": 35,
   "metadata": {},
   "outputs": [],
   "source": [
    "i = np.array([0.5, -0.5, 0])\n",
    "\n",
    "j = np.array([0, 0.5, 0.5])\n",
    "\n",
    "k = np.array([0, 0, 1])"
   ]
  },
  {
   "cell_type": "code",
   "execution_count": 36,
   "metadata": {},
   "outputs": [
    {
     "data": {
      "text/plain": [
       "-0.25"
      ]
     },
     "execution_count": 36,
     "metadata": {},
     "output_type": "execute_result"
    }
   ],
   "source": [
    "np.dot(i, j)"
   ]
  },
  {
   "cell_type": "code",
   "execution_count": 37,
   "metadata": {},
   "outputs": [
    {
     "data": {
      "text/plain": [
       "0.0"
      ]
     },
     "execution_count": 37,
     "metadata": {},
     "output_type": "execute_result"
    }
   ],
   "source": [
    "np.dot(i, k)"
   ]
  },
  {
   "cell_type": "code",
   "execution_count": 38,
   "metadata": {},
   "outputs": [
    {
     "data": {
      "text/plain": [
       "0.5"
      ]
     },
     "execution_count": 38,
     "metadata": {},
     "output_type": "execute_result"
    }
   ],
   "source": [
    "np.dot(j, k)"
   ]
  },
  {
   "cell_type": "markdown",
   "metadata": {},
   "source": [
    "Пара векторов (i, k) образуют ортонормированный базис в линейном пространстве  $\\mathbb{R}^{3}.$"
   ]
  },
  {
   "cell_type": "markdown",
   "metadata": {},
   "source": [
    "#### г) $(1,0,0), (0,1,0), (0,0,1).$"
   ]
  },
  {
   "cell_type": "code",
   "execution_count": 39,
   "metadata": {},
   "outputs": [],
   "source": [
    "l = np.array([1, 0, 0])\n",
    "\n",
    "m = np.array([0, 1, 0])\n",
    "\n",
    "n = np.array([0, 0, 1])"
   ]
  },
  {
   "cell_type": "code",
   "execution_count": 40,
   "metadata": {},
   "outputs": [
    {
     "data": {
      "text/plain": [
       "0"
      ]
     },
     "execution_count": 40,
     "metadata": {},
     "output_type": "execute_result"
    }
   ],
   "source": [
    "np.dot(l, m)"
   ]
  },
  {
   "cell_type": "code",
   "execution_count": 41,
   "metadata": {},
   "outputs": [
    {
     "data": {
      "text/plain": [
       "0"
      ]
     },
     "execution_count": 41,
     "metadata": {},
     "output_type": "execute_result"
    }
   ],
   "source": [
    "np.dot(l, n)"
   ]
  },
  {
   "cell_type": "code",
   "execution_count": 42,
   "metadata": {},
   "outputs": [
    {
     "data": {
      "text/plain": [
       "0"
      ]
     },
     "execution_count": 42,
     "metadata": {},
     "output_type": "execute_result"
    }
   ],
   "source": [
    "np.dot(m, n)"
   ]
  },
  {
   "cell_type": "markdown",
   "metadata": {},
   "source": [
    "Векторы l, m и n образуют ортонормированный базис в линейном пространстве  $\\mathbb{R}^{3}.$"
   ]
  }
 ],
 "metadata": {
  "kernelspec": {
   "display_name": "Python 3",
   "language": "python",
   "name": "python3"
  },
  "language_info": {
   "codemirror_mode": {
    "name": "ipython",
    "version": 3
   },
   "file_extension": ".py",
   "mimetype": "text/x-python",
   "name": "python",
   "nbconvert_exporter": "python",
   "pygments_lexer": "ipython3",
   "version": "3.8.5"
  }
 },
 "nbformat": 4,
 "nbformat_minor": 4
}
